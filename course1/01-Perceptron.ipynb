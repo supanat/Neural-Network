{
 "cells": [
  {
   "cell_type": "markdown",
   "metadata": {},
   "source": [
    "### Perceptron"
   ]
  },
  {
   "cell_type": "markdown",
   "metadata": {},
   "source": [
    "example1"
   ]
  },
  {
   "cell_type": "code",
   "execution_count": 1,
   "metadata": {},
   "outputs": [],
   "source": [
    "def h(x1,x2):\n",
    "    w1 = 20\n",
    "    w2 = 50\n",
    "    b = -1000\n",
    "    a = w1*x1+w2*x2+b\n",
    "    if(a>=0):\n",
    "        return 1\n",
    "    else:\n",
    "        return 0"
   ]
  },
  {
   "cell_type": "code",
   "execution_count": 2,
   "metadata": {},
   "outputs": [
    {
     "name": "stdout",
     "output_type": "stream",
     "text": [
      "0\n"
     ]
    }
   ],
   "source": [
    "print(h(x1=0,x2=10))"
   ]
  },
  {
   "cell_type": "code",
   "execution_count": 4,
   "metadata": {},
   "outputs": [
    {
     "name": "stdout",
     "output_type": "stream",
     "text": [
      "1\n"
     ]
    }
   ],
   "source": [
    "print(h(x1=14,x2=15))"
   ]
  },
  {
   "cell_type": "markdown",
   "metadata": {},
   "source": [
    "example2"
   ]
  },
  {
   "cell_type": "code",
   "execution_count": 5,
   "metadata": {},
   "outputs": [],
   "source": [
    "import numpy as np\n",
    "def h(x):\n",
    "    w = np.array([20,50])\n",
    "    b = -1000\n",
    "    a = (w*x).sum()+b\n",
    "    return int(a>=0)"
   ]
  },
  {
   "cell_type": "code",
   "execution_count": 7,
   "metadata": {},
   "outputs": [
    {
     "data": {
      "text/plain": [
       "0"
      ]
     },
     "execution_count": 7,
     "metadata": {},
     "output_type": "execute_result"
    }
   ],
   "source": [
    "X = np.array([20,10])\n",
    "h(X)"
   ]
  },
  {
   "cell_type": "code",
   "execution_count": 9,
   "metadata": {},
   "outputs": [
    {
     "data": {
      "text/plain": [
       "1"
      ]
     },
     "execution_count": 9,
     "metadata": {},
     "output_type": "execute_result"
    }
   ],
   "source": [
    "X = np.array([15,30])\n",
    "h(X)"
   ]
  },
  {
   "cell_type": "markdown",
   "metadata": {},
   "source": [
    "Example 3"
   ]
  },
  {
   "cell_type": "code",
   "execution_count": 10,
   "metadata": {},
   "outputs": [],
   "source": [
    "def h(X):\n",
    "    w = np.array([20,50])\n",
    "    b = -1000\n",
    "    a = np.dot(X,w) +b\n",
    "    return (a>=0).astype(int)"
   ]
  },
  {
   "cell_type": "code",
   "execution_count": 11,
   "metadata": {},
   "outputs": [
    {
     "name": "stdout",
     "output_type": "stream",
     "text": [
      "[0 1 1]\n"
     ]
    }
   ],
   "source": [
    "X = np.array([\n",
    "    [10,15],\n",
    "    [10,18],\n",
    "    [22,15]\n",
    "])\n",
    "\n",
    "print(h(X))"
   ]
  },
  {
   "cell_type": "markdown",
   "metadata": {},
   "source": [
    "Example 4"
   ]
  },
  {
   "cell_type": "code",
   "execution_count": 17,
   "metadata": {},
   "outputs": [
    {
     "data": {
      "image/png": "[encoded data removed]",
      "text/plain": [
       "<Figure size 432x288 with 1 Axes>"
      ]
     },
     "metadata": {},
     "output_type": "display_data"
    }
   ],
   "source": [
    "import matplotlib.pyplot as plt\n",
    "mx,my = np.meshgrid(np.linspace(0,60,200),np.linspace(0,30,200))\n",
    "mX = np.array([mx.ravel(),my.ravel()]).T\n",
    "mz = h(mX).reshape(200,-1)\n",
    "plt.gca(aspect=1)\n",
    "plt.contourf(mx,my,mz)\n",
    "plt.xlabel(u'20 THB',family='Tahoma',size=14)\n",
    "plt.ylabel(u'50 THB',family='Tahoma',size=14)\n",
    "plt.show()"
   ]
  },
  {
   "cell_type": "code",
   "execution_count": 19,
   "metadata": {},
   "outputs": [
    {
     "data": {
      "text/plain": [
       "array([[ 0.        ,  0.30150754,  0.60301508, ..., 59.39698492,\n",
       "        59.69849246, 60.        ],\n",
       "       [ 0.        ,  0.30150754,  0.60301508, ..., 59.39698492,\n",
       "        59.69849246, 60.        ],\n",
       "       [ 0.        ,  0.30150754,  0.60301508, ..., 59.39698492,\n",
       "        59.69849246, 60.        ],\n",
       "       ...,\n",
       "       [ 0.        ,  0.30150754,  0.60301508, ..., 59.39698492,\n",
       "        59.69849246, 60.        ],\n",
       "       [ 0.        ,  0.30150754,  0.60301508, ..., 59.39698492,\n",
       "        59.69849246, 60.        ],\n",
       "       [ 0.        ,  0.30150754,  0.60301508, ..., 59.39698492,\n",
       "        59.69849246, 60.        ]])"
      ]
     },
     "execution_count": 19,
     "metadata": {},
     "output_type": "execute_result"
    }
   ],
   "source": [
    "mx"
   ]
  },
  {
   "cell_type": "markdown",
   "metadata": {},
   "source": [
    "Example 5 Logic Gate"
   ]
  },
  {
   "cell_type": "code",
   "execution_count": 20,
   "metadata": {},
   "outputs": [
    {
     "name": "stdout",
     "output_type": "stream",
     "text": [
      "[0 1 1 1]\n"
     ]
    }
   ],
   "source": [
    "def h(X):\n",
    "    w = np.array([1,1])\n",
    "    b = -0.9\n",
    "    a = np.dot(X,w) + b\n",
    "    return (a>=0).astype(int)\n",
    "\n",
    "X = np.array([\n",
    "    [0,0],\n",
    "    [0,1],\n",
    "    [1,0],\n",
    "    [1,1]\n",
    "])\n",
    "print(h(X))"
   ]
  },
  {
   "cell_type": "code",
   "execution_count": 21,
   "metadata": {},
   "outputs": [
    {
     "data": {
      "image/png": "[encoded data removed]",
      "text/plain": [
       "<Figure size 432x288 with 1 Axes>"
      ]
     },
     "metadata": {},
     "output_type": "display_data"
    }
   ],
   "source": [
    "mx,my = np.meshgrid(np.linspace(-0.5,1.5,200),np.linspace(-0.5,1.5,200))\n",
    "mX = np.array([mx.ravel(),my.ravel()]).T\n",
    "mz = h(mX).reshape(200,-1)\n",
    "plt.gca(aspect=1)\n",
    "plt.contourf(mx,my,mz,cmap='summer')\n",
    "plt.scatter(X[:,0],X[:,1],100,c=h(X),edgecolor='r',marker='D',cmap='hot')\n",
    "plt.show()"
   ]
  },
  {
   "cell_type": "code",
   "execution_count": 22,
   "metadata": {},
   "outputs": [
    {
     "data": {
      "image/png": "[encoded data removed]",
      "text/plain": [
       "<Figure size 432x288 with 1 Axes>"
      ]
     },
     "metadata": {},
     "output_type": "display_data"
    }
   ],
   "source": [
    "def h(X):\n",
    "    w = np.array([0.5,2])\n",
    "    b = -0.4\n",
    "    a = np.dot(X,w) + b\n",
    "    return (a>=0).astype(int)\n",
    "\n",
    "mx,my = np.meshgrid(np.linspace(-0.5,1.5,200),np.linspace(-0.5,1.5,200))\n",
    "mX = np.array([mx.ravel(),my.ravel()]).T\n",
    "mz = h(mX).reshape(200,-1)\n",
    "plt.gca(aspect=1)\n",
    "plt.contourf(mx,my,mz,cmap='summer')\n",
    "plt.scatter(X[:,0],X[:,1],100,c=h(X),edgecolor='r',marker='D',cmap='hot')\n",
    "plt.show()\n"
   ]
  },
  {
   "cell_type": "code",
   "execution_count": null,
   "metadata": {},
   "outputs": [],
   "source": []
  }
 ],
 "metadata": {
  "kernelspec": {
   "display_name": "Python 3",
   "language": "python",
   "name": "python3"
  },
  "language_info": {
   "codemirror_mode": {
    "name": "ipython",
    "version": 3
   },
   "file_extension": ".py",
   "mimetype": "text/x-python",
   "name": "python",
   "nbconvert_exporter": "python",
   "pygments_lexer": "ipython3",
   "version": "3.6.5"
  }
 },
 "nbformat": 4,
 "nbformat_minor": 2
}
